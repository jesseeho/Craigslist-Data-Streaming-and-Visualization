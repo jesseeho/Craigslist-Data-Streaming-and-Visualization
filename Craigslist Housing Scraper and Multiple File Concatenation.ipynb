{
 "cells": [
  {
   "cell_type": "markdown",
   "metadata": {},
   "source": [
    "# Craigslist Scraper\n",
    "The Craiglist python API by MIT-Zero was used to scrape the website for all real estate listed for sale. A maximum of 3000 listing could be pulled per instance as this is the maximum number results returned by craigslist."
   ]
  },
  {
   "cell_type": "code",
   "execution_count": 1,
   "metadata": {},
   "outputs": [],
   "source": [
    "from craigslist import CraigslistHousing\n",
    "import pandas as pd\n",
    "import numpy as np\n",
    "\n"
   ]
  },
  {
   "cell_type": "markdown",
   "metadata": {},
   "source": [
    "To extract realestate listing for sale, The cateogry filter 'rea' was used. This returns filter will return both realestate owner (reo) and realestate broker (red) categories. The resultant dataframe is saved as a .csv file at the desired path."
   ]
  },
  {
   "cell_type": "code",
   "execution_count": 2,
   "metadata": {},
   "outputs": [
    {
     "name": "stdout",
     "output_type": "stream",
     "text": [
      "[{'id': '6865924690', 'repost_of': '6788156577', 'name': 'COSTA RICA - 42 ACRES - Ocean View Property with 2 Homes !', 'url': 'https://toronto.craigslist.org/tor/reb/d/toronto-costa-rica-42-acres-ocean-view/6865924690.html', 'datetime': '2019-04-24 00:56', 'price': '$0', 'where': 'Golfo Dulce, Costa Rica', 'has_image': True, 'has_map': True, 'geotag': (8.635769, -83.161697), 'bedrooms': None, 'area': None}, {'id': '6873435675', 'repost_of': None, 'name': 'Huntsville ONT - Townhouse, 3 Bdrm/2.5 Baths - View of Lake - $374,900', 'url': 'https://toronto.craigslist.org/tor/reo/d/huntsville-huntsville-ont-townhouse-3/6873435675.html', 'datetime': '2019-04-24 00:38', 'price': '$374900', 'where': 'Main Street Huntsville, Ontario Canada', 'has_image': True, 'has_map': True, 'geotag': (45.321209, -79.228602), 'bedrooms': '3', 'area': '1460ft2'}, {'id': '6873421342', 'repost_of': None, 'name': 'Powell River BC Lakefront', 'url': 'https://toronto.craigslist.org/tor/reo/d/powell-river-powell-river-bc-lakefront/6873421342.html', 'datetime': '2019-04-23 23:50', 'price': '$720000', 'where': 'Powell River', 'has_image': True, 'has_map': True, 'geotag': (49.869481, -124.511036), 'bedrooms': '4', 'area': '1860ft2'}]\n"
     ]
    }
   ],
   "source": [
    "#establish query, then seek results\n",
    "\n",
    "#cl = CraigslistHousing(site='toronto', area='tor', category='rea',\n",
    "#                         filters={'posted_today': True})\n",
    "cl = CraigslistHousing(site='toronto', area='tor', category='rea')\n",
    "\n",
    "results = cl.get_results(sort_by='newest', geotagged=True)\n",
    "\n",
    "#Store results in a vector for easier referencing and analysis\n",
    "listings = []\n",
    "for result in results:\n",
    "    listings.append(result)\n",
    "\n",
    "#Print off top 3 to see dataset\n",
    "print (listings[:3])\n",
    "\n",
    "#Convert JSON to Dataframe\n",
    "df = pd.DataFrame.from_records(listings)\n",
    "\n",
    "#replace \"None\" with NA\n",
    "df.fillna(value=pd.np.nan, inplace=True)\n",
    "\n",
    "list(df)\n",
    "\n",
    "df.to_csv(r'...export_dataframe.csv', index=None, header=True)"
   ]
  },
  {
   "cell_type": "markdown",
   "metadata": {},
   "source": [
    "# Multiple File Concatenation\n",
    "The below code take all .csv files in your dseignated file location and combines them into a combined csv file if they have the same structure."
   ]
  },
  {
   "cell_type": "code",
   "execution_count": null,
   "metadata": {},
   "outputs": [],
   "source": [
    "os.chdir(\"/file location\")\n",
    "extension = 'csv'\n",
    "all_filenames = [i for i in glob.glob('*.{}'.format(extension))]\n",
    "#combine all files in the list\n",
    "combined_csv = pd.concat([pd.read_csv(f) for f in all_filenames ])\n",
    "#export to csv\n",
    "combined_csv.to_csv( \"combined_csv.csv\", index=False, encoding='utf-8-sig')"
   ]
  }
 ],
 "metadata": {
  "kernelspec": {
   "display_name": "Python 3",
   "language": "python",
   "name": "python3"
  },
  "language_info": {
   "codemirror_mode": {
    "name": "ipython",
    "version": 3
   },
   "file_extension": ".py",
   "mimetype": "text/x-python",
   "name": "python",
   "nbconvert_exporter": "python",
   "pygments_lexer": "ipython3",
   "version": "3.7.3"
  }
 },
 "nbformat": 4,
 "nbformat_minor": 2
}
